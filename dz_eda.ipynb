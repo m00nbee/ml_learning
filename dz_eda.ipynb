{
 "cells": [
  {
   "cell_type": "markdown",
   "metadata": {},
   "source": [
    "## Домашнее задание от 24.10.2024"
   ]
  },
  {
   "cell_type": "markdown",
   "metadata": {},
   "source": [
    "##### Ваша задача: предсказать клиентов, которые намереваются уйти (churn). Необходимо продемонстрировать этапы подготовки данных:\n",
    "##### Корректность загрузки\n",
    "##### Проверка на пропуски\n",
    "##### Проверка на аномалии\n",
    "##### Группировки данных по категориям в зависимости от целевой переменной (выводы о данных, например, отток по типу карты)\n",
    "##### Визуализации: гистограммы, тепловые карты, pairplot-ы, violin\n",
    "##### Кодирование данных (через one-hot и через уникальное значение)\n",
    "### Признаки и их значение \n",
    "###### churn - ушедший (Attrited) или текущий (Existing) клиент\n",
    "###### Customer_Age - Демографическая переменная-возраст клиента в годах\n",
    "###### Gender - Демографические переменные - M=мужской, F=женский\n",
    "###### Dependent_count - Демографическая переменная-число иждивенцев\n",
    "###### Education_Level - Демографическая переменная - образовательная квалификация владельца счета (пример: средняя школа, выпускник колледжа и т. д.)\n",
    "###### Marital_Status - Демографическая переменная-женат, холост, разведен, неизвестен\n",
    "###### Income_Category - Демографическая переменная - категория годового дохода владельца счета (< $40K, $40K - 60K, $60K - $80K, $80K-$120K, > $120K, неизвестно)\n",
    "###### Card_Category - Переменная продукта-Тип карты (Синяя, серебряная, золотая, Платиновая)\n",
    "###### Months_on_book - Период взаимоотношений с банком\n",
    "###### Total_Relationship_Count - Общее количество продуктов, находящихся у клиента\n",
    "###### Months_Inactive_12_mon - Количество месяцев бездействия за последние 12 месяцев\n",
    "###### Contacts_Count_12_mon - Количество контактов за последние 12 месяцев\n",
    "###### Credit_Limit - Кредитный лимит по кредитной карте\n",
    "###### Total_Revolving_Bal - Общий оборотный остаток на кредитной карте\n",
    "###### Avg_Open_To_Buy - Открытая для покупки кредитная линия (в среднем за последние 12 месяцев)\n",
    "###### Total_Amt_Chng_Q4_Q1 - Изменение суммы сделки (4 квартал по сравнению с 1 кварталом)\n",
    "###### Total_Trans_Amt - Общая сумма сделки (за последние 12 месяцев)\n",
    "###### Total_Trans_Ct - Общее количество транзакций (за последние 12 месяцев)\n",
    "###### Total_Ct_Chng_Q4_Q1 - Изменение количества транзакций (Q4 по сравнению с Q1)\n",
    "###### Avg_Utilization_Ratio - Средний Коэффициент Использования Карт"
   ]
  },
  {
   "cell_type": "code",
   "execution_count": 1,
   "metadata": {},
   "outputs": [
    {
     "ename": "ModuleNotFoundError",
     "evalue": "No module named 'sklean'",
     "output_type": "error",
     "traceback": [
      "\u001b[0;31m---------------------------------------------------------------------------\u001b[0m",
      "\u001b[0;31mModuleNotFoundError\u001b[0m                       Traceback (most recent call last)",
      "Cell \u001b[0;32mIn[1], line 6\u001b[0m\n\u001b[1;32m      4\u001b[0m \u001b[38;5;28;01mimport\u001b[39;00m \u001b[38;5;21;01mseaborn\u001b[39;00m \u001b[38;5;28;01mas\u001b[39;00m \u001b[38;5;21;01msns\u001b[39;00m\n\u001b[1;32m      5\u001b[0m \u001b[38;5;28;01mfrom\u001b[39;00m \u001b[38;5;21;01msklearn\u001b[39;00m\u001b[38;5;21;01m.\u001b[39;00m\u001b[38;5;21;01mpreprocessing\u001b[39;00m \u001b[38;5;28;01mimport\u001b[39;00m OrdinalEncoder\n\u001b[0;32m----> 6\u001b[0m \u001b[38;5;28;01mfrom\u001b[39;00m \u001b[38;5;21;01msklean\u001b[39;00m\u001b[38;5;21;01m.\u001b[39;00m\u001b[38;5;21;01mmodel_selection\u001b[39;00m \u001b[38;5;28;01mimport\u001b[39;00m train_test_split\n\u001b[1;32m      8\u001b[0m seed \u001b[38;5;241m=\u001b[39m \u001b[38;5;241m24\u001b[39m\n",
      "\u001b[0;31mModuleNotFoundError\u001b[0m: No module named 'sklean'"
     ]
    }
   ],
   "source": [
    "import numpy as np \n",
    "import pandas as pd \n",
    "import matplotlib.pyplot as plt \n",
    "import seaborn as sns\n",
    "from sklearn.preprocessing import OrdinalEncoder\n",
    "from sklearn.model_selection import train_test_split\n",
    "\n",
    "seed = 24"
   ]
  },
  {
   "cell_type": "markdown",
   "metadata": {},
   "source": [
    "### Выводим верхние и нижние элементы таблицы"
   ]
  },
  {
   "cell_type": "code",
   "execution_count": null,
   "metadata": {},
   "outputs": [],
   "source": [
    "df = pd.read_csv('churn.csv')\n",
    "df.head()"
   ]
  },
  {
   "cell_type": "code",
   "execution_count": null,
   "metadata": {},
   "outputs": [],
   "source": [
    "df.tail()"
   ]
  },
  {
   "cell_type": "code",
   "execution_count": null,
   "metadata": {},
   "outputs": [],
   "source": [
    "df.info()\n",
    "df.shape"
   ]
  },
  {
   "cell_type": "code",
   "execution_count": null,
   "metadata": {},
   "outputs": [],
   "source": [
    "df.describe()"
   ]
  },
  {
   "cell_type": "markdown",
   "metadata": {},
   "source": [
    "### Смотрим дупликаты и null"
   ]
  },
  {
   "cell_type": "code",
   "execution_count": null,
   "metadata": {},
   "outputs": [],
   "source": [
    "num_duplicated = df.duplicated().sum()\n",
    "f'{num_duplicated} дупликатов найдено'"
   ]
  },
  {
   "cell_type": "code",
   "execution_count": null,
   "metadata": {
    "scrolled": true
   },
   "outputs": [],
   "source": [
    "sns.heatmap(df.isnull(), cmap='YlOrBr', vmin=0, vmax=1)"
   ]
  },
  {
   "cell_type": "markdown",
   "metadata": {},
   "source": [
    "### Дубликатов и пустых значений нет, значит, смотрим выбросы"
   ]
  },
  {
   "cell_type": "code",
   "execution_count": null,
   "metadata": {},
   "outputs": [],
   "source": [
    "df_select_out = df[df.columns[11:]]\n",
    "outlier_cols = []\n",
    "\n",
    "for column in df_select_out.columns:\n",
    "    # Calculate the IQR (Interquartile Range)\n",
    "    Q1 = df_select_out[column].quantile(0.25)\n",
    "    Q3 = df_select_out[column].quantile(0.75)\n",
    "    IQR = Q3 - Q1\n",
    "\n",
    "    # Identify outliers based on the IQR\n",
    "    outliers = (df_select_out[column] < Q1 - 1.5 * IQR) | (df_select_out[column] > Q3 + 1.5 * IQR)\n",
    "\n",
    "    # Check if there are any outliers in the column\n",
    "    if any(outliers):\n",
    "        outlier_cols.append(column)\n",
    "\n",
    "# Print columns with outliers\n",
    "print(\"Columns with outliers:\", outlier_cols)"
   ]
  },
  {
   "cell_type": "markdown",
   "metadata": {},
   "source": [
    "### Больше всего выбросов в Credit_Limit, Avg_Open_To_Buy, Total_Amt_Chng_Q4_Q1"
   ]
  },
  {
   "cell_type": "code",
   "execution_count": null,
   "metadata": {},
   "outputs": [],
   "source": [
    "fig, axes = plt.subplots(nrows=1, ncols=len(df_select_out.columns), figsize=(20, 5))\n",
    "\n",
    "# Create box plots for each column\n",
    "for i, column in enumerate(df_select_out.columns):\n",
    "    sns.boxplot(x=df_select_out[column], ax=axes[i], color='skyblue')\n",
    "    axes[i].set_title(f'{column}')\n",
    "\n",
    "plt.tight_layout()\n",
    "plt.show()"
   ]
  },
  {
   "cell_type": "markdown",
   "metadata": {},
   "source": [
    "### Обработка выбросов (просто удалю)"
   ]
  },
  {
   "cell_type": "code",
   "execution_count": null,
   "metadata": {},
   "outputs": [],
   "source": [
    "def del_outliers(frame, column):\n",
    "    Q1 = frame[column].quantile(0.25)\n",
    "    Q3 = frame[column].quantile(0.75)\n",
    "    IQR = Q3 - Q1\n",
    "\n",
    "    lower_bound = Q1 - 1.5 * IQR\n",
    "    upper_bound = Q3 + 1.5 * IQR\n",
    "\n",
    "    return frame[(frame[column] >= lower_bound) & (frame[column] <= upper_bound)]\n",
    "\n",
    "for col in outlier_cols:\n",
    "    df = del_outliers(df, col)\n",
    "df"
   ]
  },
  {
   "cell_type": "code",
   "execution_count": null,
   "metadata": {},
   "outputs": [],
   "source": [
    "df['Customer_Age'].unique()\n",
    "avg_revolving = df.groupby('Customer_Age')['Total_Revolving_Bal'].mean().reset_index()"
   ]
  },
  {
   "cell_type": "markdown",
   "metadata": {},
   "source": [
    "### Просто график, решил попробовать вывести "
   ]
  },
  {
   "cell_type": "code",
   "execution_count": null,
   "metadata": {},
   "outputs": [],
   "source": [
    "sns.set(style=\"darkgrid\")\n",
    "plt.figure(figsize=(14, 6))\n",
    "sns.barplot(x='Customer_Age', y='Total_Revolving_Bal', data=avg_revolving)\n",
    "plt.title('Average Revolving Balance ')\n",
    "plt.xlabel('Age')\n",
    "plt.ylabel('Avg Revolving Balance')\n",
    "\n",
    "plt.show()"
   ]
  },
  {
   "cell_type": "code",
   "execution_count": null,
   "metadata": {},
   "outputs": [],
   "source": [
    "df['Card_Category'].value_counts()\n",
    "aim = df['churn']"
   ]
  },
  {
   "cell_type": "code",
   "execution_count": null,
   "metadata": {},
   "outputs": [],
   "source": [
    "plt.figure(figsize=(10, 6))\n",
    "sns.countplot(x='Card_Category', hue='churn', data=df, palette='rocket')\n",
    "plt.ylabel('Churn')\n",
    "plt.xlabel('Count')\n",
    "plt.title('Распределение ушедших и оставшихся клиентов по категории карты')\n",
    "plt.legend(title='Category')"
   ]
  },
  {
   "cell_type": "markdown",
   "metadata": {},
   "source": [
    "### Очень мало человек осталось, соу почти ничего не видно в 3 последних столбцах\n",
    "### Также сделаю несколько круговых диаграмм"
   ]
  },
  {
   "cell_type": "code",
   "execution_count": null,
   "metadata": {},
   "outputs": [],
   "source": [
    "income_types = df['Income_Category'].value_counts()\n",
    "# income_types - количество каждого unique значения\n",
    "plt.figure(figsize=(8, 8))\n",
    "plt.pie(income_types, labels=income_types.index, autopct='%1.1f%%', startangle=140, colors=plt.cm.Set3.colors)\n",
    "\n",
    "plt.legend()\n",
    "plt.title('% распределения людей по Income Category')\n",
    "plt.show()"
   ]
  },
  {
   "cell_type": "code",
   "execution_count": null,
   "metadata": {},
   "outputs": [],
   "source": [
    "plt.figure(figsize=(15, 8))\n",
    "sns.violinplot(df_select_out, x=df['Income_Category'], y=df['Customer_Age'], palette='mako')\n",
    "plt.xlabel('Income_Category')\n",
    "plt.ylabel('Customer_Age')\n",
    "plt.title('Распределение категории дохода в зависимости от возраста')\n",
    "plt.show()"
   ]
  },
  {
   "cell_type": "markdown",
   "metadata": {},
   "source": [
    "### Закодируем object в int"
   ]
  },
  {
   "cell_type": "code",
   "execution_count": null,
   "metadata": {},
   "outputs": [],
   "source": [
    "categorial_columns = df.select_dtypes(include=['object']).columns.tolist()\n",
    "encoder = OrdinalEncoder()\n",
    "encoded_data = encoder.fit_transform(df[categorial_columns])\n",
    "df[categorial_columns] = encoded_data.astype(int)\n",
    "df"
   ]
  },
  {
   "cell_type": "markdown",
   "metadata": {},
   "source": [
    "### Корреляция всех значений"
   ]
  },
  {
   "cell_type": "code",
   "execution_count": null,
   "metadata": {},
   "outputs": [],
   "source": [
    "plt.figure(figsize=(15,0.5))\n",
    "sns.heatmap(df.corr().loc[['churn']], annot=True, vmax=1, vmin=0, cmap=sns.color_palette('flare', as_cmap=True), fmt='.2f')"
   ]
  },
  {
   "cell_type": "code",
   "execution_count": null,
   "metadata": {},
   "outputs": [],
   "source": [
    "plt.figure(figsize=(16, 12))\n",
    "sns.heatmap(df.corr(), annot=True, vmax=1, vmin=0, cmap='flare', fmt='.2f')"
   ]
  },
  {
   "cell_type": "markdown",
   "metadata": {},
   "source": [
    "##### Видим, что целевая переменная коррилерирует в основном:\n",
    "##### Total_Trans_Ct - Общее количество транзакций (за последние 12 месяцев)¶\n",
    "##### Total_Ct_Chng_Q4_Q1 - Изменение количества транзакций (Q4 по сравнению с Q1)\n",
    "##### Total_Revolving_Bal - Общий оборотный остаток на кредитной карте\n",
    "##### Total_Trans_Amt - Общая сумма сделки (за последние 12 месяцев)\n",
    "##### Также можно рассмотреть цепную корреляцию по столбцам: \n",
    "##### Total_Revolving_Bal -> Avg_Utilization_Ratio -> churn\n",
    "##### Total_Trans_Ct -> Total_Ct_Chng_Q4_Q1 -> churn"
   ]
  },
  {
   "cell_type": "markdown",
   "metadata": {},
   "source": [
    "### Обучение модельки"
   ]
  },
  {
   "cell_type": "code",
   "execution_count": null,
   "metadata": {},
   "outputs": [],
   "source": [
    "target = 'churn'\n",
    "np.random.seed(seed)\n",
    "\n",
    "test_size = 0.25\n",
    "data_train, data_test, y_train, y_test = train_test_split(\n",
    "    df[df.columns.drop('churn')],\n",
    "    np.array(df['churn']),\n",
    "    test_size = test_size,\n",
    "    randim_state=seed\n",
    ")\n",
    "print(f'Train: {data_train.shape} {y_train.shape}')\n",
    "print(f'Test: {data_test.shape} {y_test.shape}')"
   ]
  }
 ],
 "metadata": {
  "kernelspec": {
   "display_name": "Python 3 (ipykernel)",
   "language": "python",
   "name": "python3"
  },
  "language_info": {
   "codemirror_mode": {
    "name": "ipython",
    "version": 3
   },
   "file_extension": ".py",
   "mimetype": "text/x-python",
   "name": "python",
   "nbconvert_exporter": "python",
   "pygments_lexer": "ipython3",
   "version": "3.10.14"
  }
 },
 "nbformat": 4,
 "nbformat_minor": 4
}
