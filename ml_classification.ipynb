{
 "cells": [
  {
   "cell_type": "code",
   "execution_count": 1,
   "id": "fa527a25-7008-42fd-8ee2-f508d67cd136",
   "metadata": {},
   "outputs": [],
   "source": [
    "import numpy as np \n",
    "import pandas as pd \n",
    "import matplotlib.pyplot as plt \n",
    "import seaborn as sns\n",
    "from sklearn.preprocessing import OrdinalEncoder\n",
    "from sklearn.model_selection import train_test_split\n",
    "import sklearn.base \n",
    "\n",
    "seed = 24"
   ]
  },
  {
   "cell_type": "code",
   "execution_count": 2,
   "id": "d73fd476-e9f2-401b-a9ad-5cf9dfab809d",
   "metadata": {},
   "outputs": [
    {
     "data": {
      "text/html": [
       "<div>\n",
       "<style scoped>\n",
       "    .dataframe tbody tr th:only-of-type {\n",
       "        vertical-align: middle;\n",
       "    }\n",
       "\n",
       "    .dataframe tbody tr th {\n",
       "        vertical-align: top;\n",
       "    }\n",
       "\n",
       "    .dataframe thead th {\n",
       "        text-align: right;\n",
       "    }\n",
       "</style>\n",
       "<table border=\"1\" class=\"dataframe\">\n",
       "  <thead>\n",
       "    <tr style=\"text-align: right;\">\n",
       "      <th></th>\n",
       "      <th>churn</th>\n",
       "      <th>Customer_Age</th>\n",
       "      <th>Gender</th>\n",
       "      <th>Dependent_count</th>\n",
       "      <th>Education_Level</th>\n",
       "      <th>Marital_Status</th>\n",
       "      <th>Income_Category</th>\n",
       "      <th>Card_Category</th>\n",
       "      <th>Months_on_book</th>\n",
       "      <th>Total_Relationship_Count</th>\n",
       "      <th>Months_Inactive_12_mon</th>\n",
       "      <th>Contacts_Count_12_mon</th>\n",
       "      <th>Credit_Limit</th>\n",
       "      <th>Total_Revolving_Bal</th>\n",
       "      <th>Avg_Open_To_Buy</th>\n",
       "      <th>Total_Amt_Chng_Q4_Q1</th>\n",
       "      <th>Total_Trans_Amt</th>\n",
       "      <th>Total_Trans_Ct</th>\n",
       "      <th>Total_Ct_Chng_Q4_Q1</th>\n",
       "      <th>Avg_Utilization_Ratio</th>\n",
       "    </tr>\n",
       "  </thead>\n",
       "  <tbody>\n",
       "    <tr>\n",
       "      <th>0</th>\n",
       "      <td>1</td>\n",
       "      <td>42</td>\n",
       "      <td>1</td>\n",
       "      <td>5</td>\n",
       "      <td>5</td>\n",
       "      <td>3</td>\n",
       "      <td>0</td>\n",
       "      <td>0</td>\n",
       "      <td>31</td>\n",
       "      <td>5</td>\n",
       "      <td>3</td>\n",
       "      <td>2</td>\n",
       "      <td>6748.0</td>\n",
       "      <td>1467</td>\n",
       "      <td>5281.0</td>\n",
       "      <td>0.831</td>\n",
       "      <td>1201</td>\n",
       "      <td>42</td>\n",
       "      <td>0.680</td>\n",
       "      <td>0.217</td>\n",
       "    </tr>\n",
       "    <tr>\n",
       "      <th>1</th>\n",
       "      <td>1</td>\n",
       "      <td>57</td>\n",
       "      <td>0</td>\n",
       "      <td>2</td>\n",
       "      <td>2</td>\n",
       "      <td>1</td>\n",
       "      <td>4</td>\n",
       "      <td>0</td>\n",
       "      <td>48</td>\n",
       "      <td>5</td>\n",
       "      <td>2</td>\n",
       "      <td>2</td>\n",
       "      <td>2436.0</td>\n",
       "      <td>680</td>\n",
       "      <td>1756.0</td>\n",
       "      <td>1.190</td>\n",
       "      <td>1570</td>\n",
       "      <td>29</td>\n",
       "      <td>0.611</td>\n",
       "      <td>0.279</td>\n",
       "    </tr>\n",
       "    <tr>\n",
       "      <th>2</th>\n",
       "      <td>1</td>\n",
       "      <td>45</td>\n",
       "      <td>0</td>\n",
       "      <td>2</td>\n",
       "      <td>2</td>\n",
       "      <td>1</td>\n",
       "      <td>5</td>\n",
       "      <td>0</td>\n",
       "      <td>37</td>\n",
       "      <td>6</td>\n",
       "      <td>1</td>\n",
       "      <td>2</td>\n",
       "      <td>14470.0</td>\n",
       "      <td>1157</td>\n",
       "      <td>13313.0</td>\n",
       "      <td>0.966</td>\n",
       "      <td>1207</td>\n",
       "      <td>21</td>\n",
       "      <td>0.909</td>\n",
       "      <td>0.080</td>\n",
       "    </tr>\n",
       "    <tr>\n",
       "      <th>3</th>\n",
       "      <td>0</td>\n",
       "      <td>62</td>\n",
       "      <td>0</td>\n",
       "      <td>0</td>\n",
       "      <td>2</td>\n",
       "      <td>1</td>\n",
       "      <td>4</td>\n",
       "      <td>0</td>\n",
       "      <td>49</td>\n",
       "      <td>2</td>\n",
       "      <td>3</td>\n",
       "      <td>3</td>\n",
       "      <td>1438.3</td>\n",
       "      <td>0</td>\n",
       "      <td>1438.3</td>\n",
       "      <td>1.047</td>\n",
       "      <td>692</td>\n",
       "      <td>16</td>\n",
       "      <td>0.600</td>\n",
       "      <td>0.000</td>\n",
       "    </tr>\n",
       "    <tr>\n",
       "      <th>4</th>\n",
       "      <td>1</td>\n",
       "      <td>47</td>\n",
       "      <td>0</td>\n",
       "      <td>4</td>\n",
       "      <td>6</td>\n",
       "      <td>2</td>\n",
       "      <td>4</td>\n",
       "      <td>0</td>\n",
       "      <td>36</td>\n",
       "      <td>3</td>\n",
       "      <td>3</td>\n",
       "      <td>2</td>\n",
       "      <td>2492.0</td>\n",
       "      <td>1560</td>\n",
       "      <td>932.0</td>\n",
       "      <td>0.573</td>\n",
       "      <td>1126</td>\n",
       "      <td>23</td>\n",
       "      <td>0.353</td>\n",
       "      <td>0.626</td>\n",
       "    </tr>\n",
       "    <tr>\n",
       "      <th>...</th>\n",
       "      <td>...</td>\n",
       "      <td>...</td>\n",
       "      <td>...</td>\n",
       "      <td>...</td>\n",
       "      <td>...</td>\n",
       "      <td>...</td>\n",
       "      <td>...</td>\n",
       "      <td>...</td>\n",
       "      <td>...</td>\n",
       "      <td>...</td>\n",
       "      <td>...</td>\n",
       "      <td>...</td>\n",
       "      <td>...</td>\n",
       "      <td>...</td>\n",
       "      <td>...</td>\n",
       "      <td>...</td>\n",
       "      <td>...</td>\n",
       "      <td>...</td>\n",
       "      <td>...</td>\n",
       "      <td>...</td>\n",
       "    </tr>\n",
       "    <tr>\n",
       "      <th>7429</th>\n",
       "      <td>0</td>\n",
       "      <td>48</td>\n",
       "      <td>1</td>\n",
       "      <td>4</td>\n",
       "      <td>0</td>\n",
       "      <td>1</td>\n",
       "      <td>3</td>\n",
       "      <td>0</td>\n",
       "      <td>44</td>\n",
       "      <td>2</td>\n",
       "      <td>3</td>\n",
       "      <td>3</td>\n",
       "      <td>9524.0</td>\n",
       "      <td>1449</td>\n",
       "      <td>8075.0</td>\n",
       "      <td>0.559</td>\n",
       "      <td>7527</td>\n",
       "      <td>58</td>\n",
       "      <td>0.657</td>\n",
       "      <td>0.152</td>\n",
       "    </tr>\n",
       "    <tr>\n",
       "      <th>7430</th>\n",
       "      <td>0</td>\n",
       "      <td>33</td>\n",
       "      <td>0</td>\n",
       "      <td>1</td>\n",
       "      <td>1</td>\n",
       "      <td>2</td>\n",
       "      <td>4</td>\n",
       "      <td>0</td>\n",
       "      <td>15</td>\n",
       "      <td>1</td>\n",
       "      <td>1</td>\n",
       "      <td>3</td>\n",
       "      <td>3709.0</td>\n",
       "      <td>1180</td>\n",
       "      <td>2529.0</td>\n",
       "      <td>0.645</td>\n",
       "      <td>8130</td>\n",
       "      <td>74</td>\n",
       "      <td>0.897</td>\n",
       "      <td>0.318</td>\n",
       "    </tr>\n",
       "    <tr>\n",
       "      <th>7431</th>\n",
       "      <td>0</td>\n",
       "      <td>49</td>\n",
       "      <td>0</td>\n",
       "      <td>4</td>\n",
       "      <td>5</td>\n",
       "      <td>1</td>\n",
       "      <td>1</td>\n",
       "      <td>0</td>\n",
       "      <td>36</td>\n",
       "      <td>5</td>\n",
       "      <td>2</td>\n",
       "      <td>3</td>\n",
       "      <td>4167.0</td>\n",
       "      <td>0</td>\n",
       "      <td>4167.0</td>\n",
       "      <td>0.581</td>\n",
       "      <td>7590</td>\n",
       "      <td>87</td>\n",
       "      <td>0.776</td>\n",
       "      <td>0.000</td>\n",
       "    </tr>\n",
       "    <tr>\n",
       "      <th>7432</th>\n",
       "      <td>0</td>\n",
       "      <td>52</td>\n",
       "      <td>0</td>\n",
       "      <td>5</td>\n",
       "      <td>6</td>\n",
       "      <td>1</td>\n",
       "      <td>4</td>\n",
       "      <td>0</td>\n",
       "      <td>36</td>\n",
       "      <td>4</td>\n",
       "      <td>3</td>\n",
       "      <td>3</td>\n",
       "      <td>9611.0</td>\n",
       "      <td>0</td>\n",
       "      <td>9611.0</td>\n",
       "      <td>0.840</td>\n",
       "      <td>7636</td>\n",
       "      <td>64</td>\n",
       "      <td>0.829</td>\n",
       "      <td>0.000</td>\n",
       "    </tr>\n",
       "    <tr>\n",
       "      <th>7433</th>\n",
       "      <td>0</td>\n",
       "      <td>30</td>\n",
       "      <td>1</td>\n",
       "      <td>2</td>\n",
       "      <td>2</td>\n",
       "      <td>3</td>\n",
       "      <td>1</td>\n",
       "      <td>0</td>\n",
       "      <td>36</td>\n",
       "      <td>4</td>\n",
       "      <td>3</td>\n",
       "      <td>3</td>\n",
       "      <td>5281.0</td>\n",
       "      <td>0</td>\n",
       "      <td>5281.0</td>\n",
       "      <td>0.535</td>\n",
       "      <td>8395</td>\n",
       "      <td>62</td>\n",
       "      <td>0.722</td>\n",
       "      <td>0.000</td>\n",
       "    </tr>\n",
       "  </tbody>\n",
       "</table>\n",
       "<p>7434 rows × 20 columns</p>\n",
       "</div>"
      ],
      "text/plain": [
       "      churn  Customer_Age  Gender  Dependent_count  Education_Level  \\\n",
       "0         1            42       1                5                5   \n",
       "1         1            57       0                2                2   \n",
       "2         1            45       0                2                2   \n",
       "3         0            62       0                0                2   \n",
       "4         1            47       0                4                6   \n",
       "...     ...           ...     ...              ...              ...   \n",
       "7429      0            48       1                4                0   \n",
       "7430      0            33       0                1                1   \n",
       "7431      0            49       0                4                5   \n",
       "7432      0            52       0                5                6   \n",
       "7433      0            30       1                2                2   \n",
       "\n",
       "      Marital_Status  Income_Category  Card_Category  Months_on_book  \\\n",
       "0                  3                0              0              31   \n",
       "1                  1                4              0              48   \n",
       "2                  1                5              0              37   \n",
       "3                  1                4              0              49   \n",
       "4                  2                4              0              36   \n",
       "...              ...              ...            ...             ...   \n",
       "7429               1                3              0              44   \n",
       "7430               2                4              0              15   \n",
       "7431               1                1              0              36   \n",
       "7432               1                4              0              36   \n",
       "7433               3                1              0              36   \n",
       "\n",
       "      Total_Relationship_Count  Months_Inactive_12_mon  Contacts_Count_12_mon  \\\n",
       "0                            5                       3                      2   \n",
       "1                            5                       2                      2   \n",
       "2                            6                       1                      2   \n",
       "3                            2                       3                      3   \n",
       "4                            3                       3                      2   \n",
       "...                        ...                     ...                    ...   \n",
       "7429                         2                       3                      3   \n",
       "7430                         1                       1                      3   \n",
       "7431                         5                       2                      3   \n",
       "7432                         4                       3                      3   \n",
       "7433                         4                       3                      3   \n",
       "\n",
       "      Credit_Limit  Total_Revolving_Bal  Avg_Open_To_Buy  \\\n",
       "0           6748.0                 1467           5281.0   \n",
       "1           2436.0                  680           1756.0   \n",
       "2          14470.0                 1157          13313.0   \n",
       "3           1438.3                    0           1438.3   \n",
       "4           2492.0                 1560            932.0   \n",
       "...            ...                  ...              ...   \n",
       "7429        9524.0                 1449           8075.0   \n",
       "7430        3709.0                 1180           2529.0   \n",
       "7431        4167.0                    0           4167.0   \n",
       "7432        9611.0                    0           9611.0   \n",
       "7433        5281.0                    0           5281.0   \n",
       "\n",
       "      Total_Amt_Chng_Q4_Q1  Total_Trans_Amt  Total_Trans_Ct  \\\n",
       "0                    0.831             1201              42   \n",
       "1                    1.190             1570              29   \n",
       "2                    0.966             1207              21   \n",
       "3                    1.047              692              16   \n",
       "4                    0.573             1126              23   \n",
       "...                    ...              ...             ...   \n",
       "7429                 0.559             7527              58   \n",
       "7430                 0.645             8130              74   \n",
       "7431                 0.581             7590              87   \n",
       "7432                 0.840             7636              64   \n",
       "7433                 0.535             8395              62   \n",
       "\n",
       "      Total_Ct_Chng_Q4_Q1  Avg_Utilization_Ratio  \n",
       "0                   0.680                  0.217  \n",
       "1                   0.611                  0.279  \n",
       "2                   0.909                  0.080  \n",
       "3                   0.600                  0.000  \n",
       "4                   0.353                  0.626  \n",
       "...                   ...                    ...  \n",
       "7429                0.657                  0.152  \n",
       "7430                0.897                  0.318  \n",
       "7431                0.776                  0.000  \n",
       "7432                0.829                  0.000  \n",
       "7433                0.722                  0.000  \n",
       "\n",
       "[7434 rows x 20 columns]"
      ]
     },
     "execution_count": 2,
     "metadata": {},
     "output_type": "execute_result"
    }
   ],
   "source": [
    "df = pd.read_csv('new_churn.csv')\n",
    "df"
   ]
  },
  {
   "cell_type": "markdown",
   "id": "a4f02348-8576-4c21-b5e9-f8b9c3c9a421",
   "metadata": {},
   "source": [
    "### Делим данные на категориальные и вещественные, x и y, train и test"
   ]
  },
  {
   "cell_type": "code",
   "execution_count": 3,
   "id": "7f3de2bd-d9c6-400f-916a-802056dfd3d6",
   "metadata": {},
   "outputs": [
    {
     "name": "stdout",
     "output_type": "stream",
     "text": [
      "Train: (5947, 19) (5947,)\n",
      "Test: (1487, 19) (1487,)\n",
      "['churn', 'Customer_Age', 'Gender', 'Dependent_count', 'Education_Level', 'Marital_Status', 'Income_Category', 'Card_Category']\n",
      "['Months_on_book', 'Total_Relationship_Count', 'Months_Inactive_12_mon', 'Contacts_Count_12_mon', 'Credit_Limit', 'Total_Revolving_Bal', 'Avg_Open_To_Buy', 'Total_Amt_Chng_Q4_Q1', 'Total_Trans_Amt', 'Total_Trans_Ct', 'Total_Ct_Chng_Q4_Q1', 'Avg_Utilization_Ratio']\n"
     ]
    }
   ],
   "source": [
    "categorial_columns = df.keys().tolist()[:8]\n",
    "continious_columns = df.keys().tolist()[8:]\n",
    "x = df.drop(df['churn'])\n",
    "y = df['churn']\n",
    "test_size = 0.2\n",
    "data_train, data_test, y_train, y_test = train_test_split(\n",
    "    df[df.columns.drop('churn')],\n",
    "    np.array(df['churn']),\n",
    "    test_size = test_size,\n",
    "    random_state=seed\n",
    ")\n",
    "print(f'Train: {data_train.shape} {y_train.shape}')\n",
    "print(f'Test: {data_test.shape} {y_test.shape}')\n",
    "print(categorial_columns)\n",
    "print(continious_columns)"
   ]
  },
  {
   "cell_type": "markdown",
   "id": "d6d8a1d3-ae5c-4700-a86d-e80023772e0a",
   "metadata": {},
   "source": [
    "### Обучение линейных моделек\n",
    "Вообще по сути линейные модельки не подходят, т. к. мы предсказываем класс, а не значение переменной"
   ]
  },
  {
   "cell_type": "code",
   "execution_count": 4,
   "id": "b1b4fbf0-47b8-4dce-89e7-4e27492e3e0e",
   "metadata": {},
   "outputs": [],
   "source": [
    "# from sklearn.preprocessing import StandardScaler\n",
    "\n",
    "# scaler = StandardScaler()\n",
    "# x_train = scaler.fit_transform(data_train)\n",
    "# x_test = scaler.transform(data_test)"
   ]
  },
  {
   "cell_type": "code",
   "execution_count": 5,
   "id": "73da28dd-a4bc-45c0-be9f-281c7f5cc99e",
   "metadata": {},
   "outputs": [],
   "source": [
    "# from sklearn.linear_model import LinearRegression\n",
    "# from sklearn.metrics import mean_squared_error as mse\n",
    "\n",
    "# lin_reg = LinearRegression()\n",
    "# lin_reg.fit(x_train, y_train)\n",
    "# y_pred_reg = lin_reg.predict(x_test)\n",
    "# print(f'MAE = {mse(y_test, y_pred_reg)}')"
   ]
  },
  {
   "cell_type": "code",
   "execution_count": 6,
   "id": "a6ce6513-8c89-487a-bf60-2cd9eed4953a",
   "metadata": {},
   "outputs": [],
   "source": [
    "# from sklearn.linear_model import Ridge\n",
    "\n",
    "# ridge = Ridge()\n",
    "# ridge.fit(x_train, y_train)\n",
    "# y_pred_reg = ridge.predict(x_test)\n",
    "# print(f'MAE = {mse(y_test, y_pred_reg)}')"
   ]
  },
  {
   "cell_type": "markdown",
   "id": "57586ca6-80c1-4800-9c41-ff661c15a6b7",
   "metadata": {},
   "source": [
    "## Обучение классификацонных моделек\n",
    "### GradientBoosting"
   ]
  },
  {
   "cell_type": "code",
   "execution_count": 7,
   "id": "c89557d0-9153-463a-9c74-f5e3a16ce7b1",
   "metadata": {},
   "outputs": [
    {
     "name": "stdout",
     "output_type": "stream",
     "text": [
      "              precision    recall  f1-score   support\n",
      "\n",
      "           0       0.92      0.84      0.88       234\n",
      "           1       0.97      0.99      0.98      1253\n",
      "\n",
      "    accuracy                           0.96      1487\n",
      "   macro avg       0.95      0.91      0.93      1487\n",
      "weighted avg       0.96      0.96      0.96      1487\n",
      "\n"
     ]
    }
   ],
   "source": [
    "from sklearn.ensemble import GradientBoostingClassifier\n",
    "from sklearn.metrics import f1_score, confusion_matrix, classification_report\n",
    "\n",
    "model = GradientBoostingClassifier()\n",
    "model.fit(data_train, y_train)\n",
    "y_pred = model.predict(data_test)\n",
    "y_true = y_test\n",
    "print(classification_report(y_true, y_pred))"
   ]
  },
  {
   "cell_type": "code",
   "execution_count": 8,
   "id": "f497fa2a-f0e7-48db-97f6-ff800836a104",
   "metadata": {},
   "outputs": [
    {
     "data": {
      "text/plain": [
       "<Axes: >"
      ]
     },
     "execution_count": 8,
     "metadata": {},
     "output_type": "execute_result"
    },
    {
     "data": {
      "image/png": "[encoded data removed]",
      "text/plain": [
       "<Figure size 640x480 with 2 Axes>"
      ]
     },
     "metadata": {},
     "output_type": "display_data"
    }
   ],
   "source": [
    "sns.heatmap(confusion_matrix(y_true, y_pred), annot=True, fmt='d')"
   ]
  },
  {
   "cell_type": "markdown",
   "id": "d6ab9056-b558-4029-898f-7529df1b5eca",
   "metadata": {},
   "source": [
    "### RandomForest"
   ]
  },
  {
   "cell_type": "code",
   "execution_count": 9,
   "id": "7858d7f6-d6e8-4ca9-94ea-a750a39ddc93",
   "metadata": {},
   "outputs": [
    {
     "name": "stdout",
     "output_type": "stream",
     "text": [
      "              precision    recall  f1-score   support\n",
      "\n",
      "           0       0.90      0.82      0.86       234\n",
      "           1       0.97      0.98      0.98      1253\n",
      "\n",
      "    accuracy                           0.96      1487\n",
      "   macro avg       0.93      0.90      0.92      1487\n",
      "weighted avg       0.96      0.96      0.96      1487\n",
      "\n"
     ]
    }
   ],
   "source": [
    "from sklearn.ensemble import RandomForestClassifier\n",
    "\n",
    "model = RandomForestClassifier()\n",
    "model.fit(data_train, y_train)\n",
    "y_pred = model.predict(data_test)\n",
    "print(classification_report(y_true, y_pred))"
   ]
  },
  {
   "cell_type": "code",
   "execution_count": 10,
   "id": "879f10f9-b720-4b5e-8cfb-4067039f35d4",
   "metadata": {},
   "outputs": [
    {
     "data": {
      "text/plain": [
       "<Axes: >"
      ]
     },
     "execution_count": 10,
     "metadata": {},
     "output_type": "execute_result"
    },
    {
     "data": {
      "image/png": "[encoded data removed]",
      "text/plain": [
       "<Figure size 640x480 with 2 Axes>"
      ]
     },
     "metadata": {},
     "output_type": "display_data"
    }
   ],
   "source": [
    "sns.heatmap(confusion_matrix(y_true, y_pred), annot=True, fmt='d')"
   ]
  },
  {
   "cell_type": "markdown",
   "id": "f579a1bd-dd7f-4d08-bb5c-5c3b64401f63",
   "metadata": {},
   "source": [
    "### ExtraTrees"
   ]
  },
  {
   "cell_type": "code",
   "execution_count": 11,
   "id": "bfae514f-718b-4466-aa8b-8efe0484ce8f",
   "metadata": {},
   "outputs": [
    {
     "name": "stdout",
     "output_type": "stream",
     "text": [
      "              precision    recall  f1-score   support\n",
      "\n",
      "           0       0.91      0.74      0.82       234\n",
      "           1       0.95      0.99      0.97      1253\n",
      "\n",
      "    accuracy                           0.95      1487\n",
      "   macro avg       0.93      0.86      0.89      1487\n",
      "weighted avg       0.95      0.95      0.95      1487\n",
      "\n"
     ]
    }
   ],
   "source": [
    "from sklearn.ensemble import ExtraTreesClassifier\n",
    "\n",
    "model = ExtraTreesClassifier()\n",
    "model.fit(data_train, y_train)\n",
    "y_pred = model.predict(data_test)\n",
    "print(classification_report(y_true, y_pred))"
   ]
  },
  {
   "cell_type": "code",
   "execution_count": 12,
   "id": "7a32bfc6-1a93-4246-a42e-e90caf02a0c0",
   "metadata": {},
   "outputs": [
    {
     "data": {
      "text/plain": [
       "<Axes: >"
      ]
     },
     "execution_count": 12,
     "metadata": {},
     "output_type": "execute_result"
    },
    {
     "data": {
      "image/png": "[encoded data removed]",
      "text/plain": [
       "<Figure size 640x480 with 2 Axes>"
      ]
     },
     "metadata": {},
     "output_type": "display_data"
    }
   ],
   "source": [
    "sns.heatmap(confusion_matrix(y_true, y_pred), annot=True, fmt='d')"
   ]
  },
  {
   "cell_type": "markdown",
   "id": "b124cda7-e932-4cee-8ca5-dc33082af01f",
   "metadata": {},
   "source": [
    "### AdaBoostClassifier"
   ]
  },
  {
   "cell_type": "code",
   "execution_count": 13,
   "id": "d07428e9-1dba-4e68-bbb3-15d5fdfe08e8",
   "metadata": {},
   "outputs": [
    {
     "name": "stderr",
     "output_type": "stream",
     "text": [
      "/home/jupyter-zorkin.aa_isp32/.local/lib/python3.10/site-packages/sklearn/ensemble/_weight_boosting.py:527: FutureWarning: The SAMME.R algorithm (the default) is deprecated and will be removed in 1.6. Use the SAMME algorithm to circumvent this warning.\n",
      "  warnings.warn(\n"
     ]
    },
    {
     "name": "stdout",
     "output_type": "stream",
     "text": [
      "              precision    recall  f1-score   support\n",
      "\n",
      "           0       0.87      0.85      0.86       234\n",
      "           1       0.97      0.98      0.97      1253\n",
      "\n",
      "    accuracy                           0.96      1487\n",
      "   macro avg       0.92      0.91      0.92      1487\n",
      "weighted avg       0.96      0.96      0.96      1487\n",
      "\n"
     ]
    }
   ],
   "source": [
    "from sklearn.ensemble import AdaBoostClassifier\n",
    "\n",
    "model = AdaBoostClassifier()\n",
    "model.fit(data_train, y_train)\n",
    "y_pred = model.predict(data_test)\n",
    "print(classification_report(y_true, y_pred))"
   ]
  },
  {
   "cell_type": "code",
   "execution_count": 14,
   "id": "6d3717e8-fd07-4338-96f5-6eb9b45c0841",
   "metadata": {},
   "outputs": [
    {
     "data": {
      "text/plain": [
       "<Axes: >"
      ]
     },
     "execution_count": 14,
     "metadata": {},
     "output_type": "execute_result"
    },
    {
     "data": {
      "image/png": "[encoded data removed]",
      "text/plain": [
       "<Figure size 640x480 with 2 Axes>"
      ]
     },
     "metadata": {},
     "output_type": "display_data"
    }
   ],
   "source": [
    "sns.heatmap(confusion_matrix(y_true, y_pred), annot=True, fmt='d')"
   ]
  },
  {
   "cell_type": "code",
   "execution_count": 15,
   "id": "5200b84f-18b0-4010-a021-1272e7acf49b",
   "metadata": {},
   "outputs": [
    {
     "name": "stdout",
     "output_type": "stream",
     "text": [
      "              precision    recall  f1-score   support\n",
      "\n",
      "           0       0.91      0.88      0.90       234\n",
      "           1       0.98      0.98      0.98      1253\n",
      "\n",
      "    accuracy                           0.97      1487\n",
      "   macro avg       0.94      0.93      0.94      1487\n",
      "weighted avg       0.97      0.97      0.97      1487\n",
      "\n"
     ]
    }
   ],
   "source": [
    "from sklearn.ensemble import HistGradientBoostingClassifier\n",
    "\n",
    "model = HistGradientBoostingClassifier()\n",
    "model.fit(data_train, y_train)\n",
    "y_pred = model.predict(data_test)\n",
    "print(classification_report(y_true, y_pred))"
   ]
  },
  {
   "cell_type": "code",
   "execution_count": 16,
   "id": "1ee94ee6-c267-42a5-908b-71e6a330e58b",
   "metadata": {},
   "outputs": [
    {
     "data": {
      "text/plain": [
       "<Axes: >"
      ]
     },
     "execution_count": 16,
     "metadata": {},
     "output_type": "execute_result"
    },
    {
     "data": {
      "image/png": "[encoded data removed]",
      "text/plain": [
       "<Figure size 640x480 with 2 Axes>"
      ]
     },
     "metadata": {},
     "output_type": "display_data"
    }
   ],
   "source": [
    "sns.heatmap(confusion_matrix(y_true, y_pred), annot=True, fmt='d')"
   ]
  },
  {
   "cell_type": "markdown",
   "id": "9227e962-370d-40a6-b986-d039171c571f",
   "metadata": {},
   "source": [
    "### Выводы"
   ]
  },
  {
   "cell_type": "markdown",
   "id": "c6979362-b64b-4a5a-b544-3b865fceba2f",
   "metadata": {},
   "source": [
    "Заметим, что все модельки обучились достаточно точно, но лучше всех обучились данные на GradientBoosting\n",
    "f1-score по 0 = 0.88, он у нас наиболее влиятельный, тк классы несбалансированные"
   ]
  }
 ],
 "metadata": {
  "kernelspec": {
   "display_name": "Python 3 (ipykernel)",
   "language": "python",
   "name": "python3"
  },
  "language_info": {
   "codemirror_mode": {
    "name": "ipython",
    "version": 3
   },
   "file_extension": ".py",
   "mimetype": "text/x-python",
   "name": "python",
   "nbconvert_exporter": "python",
   "pygments_lexer": "ipython3",
   "version": "3.10.14"
  }
 },
 "nbformat": 4,
 "nbformat_minor": 5
}
